{
  "nbformat": 4,
  "nbformat_minor": 0,
  "metadata": {
    "colab": {
      "provenance": [],
      "authorship_tag": "ABX9TyP7+YxJ9MdeJLdLdSJvXC25",
      "include_colab_link": true
    },
    "kernelspec": {
      "name": "python3",
      "display_name": "Python 3"
    },
    "language_info": {
      "name": "python"
    }
  },
  "cells": [
    {
      "cell_type": "markdown",
      "metadata": {
        "id": "view-in-github",
        "colab_type": "text"
      },
      "source": [
        "<a href=\"https://colab.research.google.com/github/0GabrielMarques0/Exercicios-em-python/blob/main/Exerc%C3%ADcios_em_python_gabriel.ipynb\" target=\"_parent\"><img src=\"https://colab.research.google.com/assets/colab-badge.svg\" alt=\"Open In Colab\"/></a>"
      ]
    },
    {
      "cell_type": "markdown",
      "source": [
        "1. Faça um CÓDIGO que mostre a mensagem \"Olá ETE PORTO DIGITAL!\" na tela.\n"
      ],
      "metadata": {
        "id": "kS45XAOKQuaj"
      }
    },
    {
      "cell_type": "code",
      "execution_count": 1,
      "metadata": {
        "colab": {
          "base_uri": "https://localhost:8080/"
        },
        "id": "9Q_DZuLgE-1a",
        "outputId": "424053d3-2fa9-4782-f79b-431dff3ae026"
      },
      "outputs": [
        {
          "output_type": "stream",
          "name": "stdout",
          "text": [
            "Olá ETE PORTO DIGITAL!\n"
          ]
        }
      ],
      "source": [
        "print(\"Olá ETE PORTO DIGITAL!\")"
      ]
    },
    {
      "cell_type": "markdown",
      "source": [
        "2. Faça um CÓDIGO que peça um número e então mostre a mensagem O número informado foi [número].\n"
      ],
      "metadata": {
        "id": "CJnqgZYfQyOi"
      }
    },
    {
      "cell_type": "code",
      "source": [
        "num = input(\"Insira um número: \")\n",
        "print(\"O número informado foi: \"+num)"
      ],
      "metadata": {
        "colab": {
          "base_uri": "https://localhost:8080/"
        },
        "id": "svzar-4gFdXp",
        "outputId": "ac4504dc-3760-4522-de64-9b1f8b81333a"
      },
      "execution_count": 5,
      "outputs": [
        {
          "output_type": "stream",
          "name": "stdout",
          "text": [
            "Insira um número: 50\n",
            "O número informado foi: 50\n"
          ]
        }
      ]
    },
    {
      "cell_type": "markdown",
      "source": [
        "3. Faça um CÓDIGO que peça dois números e imprima a soma.\n"
      ],
      "metadata": {
        "id": "1vOxuxlgQ1E7"
      }
    },
    {
      "cell_type": "code",
      "source": [
        "num = int(input(\"Insira o primeiro número: \"))\n",
        "num2 = int(input(\"Insira o segundo número: \"))\n",
        "soma = num+num2\n",
        "print(f'A soma dos números é: {soma}')"
      ],
      "metadata": {
        "colab": {
          "base_uri": "https://localhost:8080/"
        },
        "id": "s0rlc1zjFdkV",
        "outputId": "ac38c18c-9926-47d3-aab6-80b46b56d901"
      },
      "execution_count": 12,
      "outputs": [
        {
          "output_type": "stream",
          "name": "stdout",
          "text": [
            "Insira o primeiro número: 50\n",
            "Insira o segundo número: 5\n",
            "A soma dos números é: 55\n"
          ]
        }
      ]
    },
    {
      "cell_type": "markdown",
      "source": [
        "4. Faça um CÓDIGO que peça as 4 notas bimestrais e mostre a média final.\n"
      ],
      "metadata": {
        "id": "Rr6I5De1Q3R9"
      }
    },
    {
      "cell_type": "code",
      "source": [
        "nt = float(input(\"Insira a primeira nota: \"))\n",
        "nt2 = float(input(\"Insira a segunda nota: \"))\n",
        "nt3 = float(input(\"Insira a terceira nota: \"))\n",
        "nt4 = float(input(\"Insira a quarta nota: \"))\n",
        "media = (nt+nt2+nt3+nt4)/4\n",
        "print(f'A média das notas é: {media}')"
      ],
      "metadata": {
        "colab": {
          "base_uri": "https://localhost:8080/"
        },
        "id": "5p-jQlSvFdx9",
        "outputId": "4c14f4fb-4e40-4930-ab1b-583d4bc74569"
      },
      "execution_count": 13,
      "outputs": [
        {
          "output_type": "stream",
          "name": "stdout",
          "text": [
            "Insira a primeira nota: 10\n",
            "Insira a segunda nota: 10\n",
            "Insira a terceira nota: 10\n",
            "Insira a quarta nota: 10\n",
            "A média das notas é: 10.0\n"
          ]
        }
      ]
    },
    {
      "cell_type": "markdown",
      "source": [
        "5. Faça um CÓDIGO que converta metros para centímetros.\n"
      ],
      "metadata": {
        "id": "4Vq4qkOVQ5Qf"
      }
    },
    {
      "cell_type": "code",
      "source": [
        "metros = float(input(\"Insira a medida em metros: \"))\n",
        "cm = metros*100\n",
        "print(f'A medida digitada em convertida para centímetros é: {cm}')"
      ],
      "metadata": {
        "colab": {
          "base_uri": "https://localhost:8080/"
        },
        "id": "Lu_hEgDFJGLB",
        "outputId": "b3c2918b-5dca-451a-a018-f030b05524ed"
      },
      "execution_count": 15,
      "outputs": [
        {
          "output_type": "stream",
          "name": "stdout",
          "text": [
            "Insira a medida em metros: 50\n",
            "A medida digitada em convertida para centímetros é: 5000.0\n"
          ]
        }
      ]
    },
    {
      "cell_type": "markdown",
      "source": [
        "6. Faça um CÓDIGO que peça o raio de um círculo, calcule e mostre sua área.\n"
      ],
      "metadata": {
        "id": "gmSkY3Z5Q6tF"
      }
    },
    {
      "cell_type": "code",
      "source": [
        "from IPython.core.display import Math\n",
        "import math\n",
        "raio = float(input(\"Insira a medida do raio do círculo: \"))\n",
        "pi = math.pi\n",
        "area = (pi + math.pow(raio,2))\n",
        "print(f'A área do círculo é: {round(area,2)}')"
      ],
      "metadata": {
        "colab": {
          "base_uri": "https://localhost:8080/"
        },
        "id": "kJCkCTSXJGS5",
        "outputId": "abdf1b68-cade-44cb-9400-58fd90d123ab"
      },
      "execution_count": 23,
      "outputs": [
        {
          "output_type": "stream",
          "name": "stdout",
          "text": [
            "Insira a medida do raio do círculo: 2\n",
            "A área do círculo é: 7.14\n"
          ]
        }
      ]
    },
    {
      "cell_type": "markdown",
      "source": [
        "7. Faça um CÓDIGO que calcule a área de um quadrado, em seguida mostre o dobro desta área para o usuário.\n"
      ],
      "metadata": {
        "id": "siQhwgCQQ8J4"
      }
    },
    {
      "cell_type": "code",
      "source": [
        "lado = float(input(\"Digite o lado do quadrado: \"))\n",
        "print(f'O dobro da área do quadrado é: {lado*2}')"
      ],
      "metadata": {
        "colab": {
          "base_uri": "https://localhost:8080/"
        },
        "id": "hl9f7oDJJGao",
        "outputId": "9d61cf84-221f-474e-f97f-ef5ed9bdfb0f"
      },
      "execution_count": 24,
      "outputs": [
        {
          "output_type": "stream",
          "name": "stdout",
          "text": [
            "Digite o lado do quadrado: 5\n",
            "O dobro da área do quadrado é: 10.0\n"
          ]
        }
      ]
    },
    {
      "cell_type": "markdown",
      "source": [
        "8. Faça um CÓDIGO que pergunte quanto você ganha por hora e o número de horas trabalhadas no mês. Calcule e mostre o total do seu salário no referido mês.\n"
      ],
      "metadata": {
        "id": "N7bjv8qQQ_oI"
      }
    },
    {
      "cell_type": "code",
      "source": [
        "ganhoHora = float(input(\"Digite quanto você ganha por hora: \"))\n",
        "horasTrabalhadas = float(input(\"Digite quantas horas você trabalhou no mês: \"))\n",
        "salarioMes = ganhoHora * horasTrabalhadas\n",
        "print(f'O seu salário desse mês será: {salarioMes}')"
      ],
      "metadata": {
        "colab": {
          "base_uri": "https://localhost:8080/"
        },
        "id": "4HLZCCigJGh4",
        "outputId": "2a8033bd-43f0-45b3-e9e1-d035e463baa4"
      },
      "execution_count": 25,
      "outputs": [
        {
          "output_type": "stream",
          "name": "stdout",
          "text": [
            "Digite quanto você ganha por hora: 20\n",
            "Digite quantas horas você trabalhou no mês: 5000\n",
            "O seu salário desse mês será: 100000.0\n"
          ]
        }
      ]
    },
    {
      "cell_type": "markdown",
      "source": [
        "9. Faça um CÓDIGO que peça um valor e mostre na tela se o valor é positivo ou negativo.\n"
      ],
      "metadata": {
        "id": "j0fW8YDZRBOC"
      }
    },
    {
      "cell_type": "code",
      "source": [
        "num = float(input('Digite um número: '))\n",
        "\n",
        "if num > 0:\n",
        "   print('Este número é positivo')\n",
        "elif num == 0:\n",
        "   print('Este número é nulo')\n",
        "else:\n",
        "   print('Este número é negativo')"
      ],
      "metadata": {
        "colab": {
          "base_uri": "https://localhost:8080/"
        },
        "id": "7QYIyongQrG6",
        "outputId": "24c3aa84-a739-4905-f022-710bd3862278"
      },
      "execution_count": 28,
      "outputs": [
        {
          "output_type": "stream",
          "name": "stdout",
          "text": [
            "Digite um número: -4\n",
            "Este número é negativo\n"
          ]
        }
      ]
    },
    {
      "cell_type": "markdown",
      "source": [
        "10. Faça um CÓDIGO que verifique se uma letra digitada é \"F\" ou \"M\". Conforme a letra escrever: F - Feminino, M - Masculino, Sexo Inválido.\n"
      ],
      "metadata": {
        "id": "es559ExyRClA"
      }
    },
    {
      "cell_type": "code",
      "source": [
        "genero = input('Digite sexo gênero (F ou M): ')\n",
        "\n",
        "if genero == \"F\" :\n",
        "  print('F - Feminino')\n",
        "elif genero == \"M\" :\n",
        "  print('M - Masculino')\n",
        "else: \n",
        "  print('Sexo inválido')"
      ],
      "metadata": {
        "colab": {
          "base_uri": "https://localhost:8080/"
        },
        "id": "cBtVFV7_QsWt",
        "outputId": "661cd707-9b03-46b2-8193-31dbebc3e502"
      },
      "execution_count": 34,
      "outputs": [
        {
          "output_type": "stream",
          "name": "stdout",
          "text": [
            "Digite sexo gênero (F ou M): d\n",
            "Sexo inválido\n"
          ]
        }
      ]
    }
  ]
}